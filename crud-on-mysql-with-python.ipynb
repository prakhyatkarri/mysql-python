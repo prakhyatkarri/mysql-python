{
 "cells": [
  {
   "cell_type": "markdown",
   "metadata": {},
   "source": [
    "## CRUD Operations on MySQL using Python\n",
    "\n",
    "For this example, we are using [MySQL](https://hub.docker.com/_/mysql) image in Docker compose environment."
   ]
  },
  {
   "cell_type": "markdown",
   "metadata": {},
   "source": [
    "### Step 1: Spin up Docker compose environment"
   ]
  },
  {
   "cell_type": "code",
   "execution_count": 1,
   "metadata": {},
   "outputs": [
    {
     "name": "stderr",
     "output_type": "stream",
     "text": [
      "Network mysql-python_default  Creating\n",
      "Network mysql-python_default  Created\n",
      "Container mysql-python-db-1  Creating\n",
      "Container mysql-python-db-1  Created\n",
      "Container mysql-python-db-1  Starting\n",
      "Container mysql-python-db-1  Started\n"
     ]
    }
   ],
   "source": [
    "!docker compose up --remove-orphans -d \n",
    "\n",
    "# --remove-orphans will remove any previously ran dangling containers\n",
    "# -d will run container in a detached mode"
   ]
  },
  {
   "cell_type": "markdown",
   "metadata": {},
   "source": [
    "### Step 2: Install Postgres library for Python"
   ]
  },
  {
   "cell_type": "code",
   "execution_count": 2,
   "metadata": {},
   "outputs": [
    {
     "name": "stdout",
     "output_type": "stream",
     "text": [
      "Requirement already satisfied: mysql-connector-python in c:\\users\\prakh\\appdata\\local\\packages\\pythonsoftwarefoundation.python.3.10_qbz5n2kfra8p0\\localcache\\local-packages\\python310\\site-packages (8.0.31)\n",
      "Requirement already satisfied: protobuf<=3.20.1,>=3.11.0 in c:\\users\\prakh\\appdata\\local\\packages\\pythonsoftwarefoundation.python.3.10_qbz5n2kfra8p0\\localcache\\local-packages\\python310\\site-packages (from mysql-connector-python) (3.20.1)\n",
      "Note: you may need to restart the kernel to use updated packages.\n"
     ]
    },
    {
     "name": "stderr",
     "output_type": "stream",
     "text": [
      "\n",
      "[notice] A new release of pip available: 22.2.2 -> 22.3.1\n",
      "[notice] To update, run: C:\\Users\\prakh\\AppData\\Local\\Microsoft\\WindowsApps\\PythonSoftwareFoundation.Python.3.10_qbz5n2kfra8p0\\python.exe -m pip install --upgrade pip\n"
     ]
    }
   ],
   "source": [
    "pip install mysql-connector-python"
   ]
  },
  {
   "cell_type": "markdown",
   "metadata": {},
   "source": [
    "### Step 3: Connect to Postgres database using Python"
   ]
  },
  {
   "cell_type": "code",
   "execution_count": 3,
   "metadata": {},
   "outputs": [
    {
     "ename": "InterfaceError",
     "evalue": "2013: Lost connection to MySQL server during query",
     "output_type": "error",
     "traceback": [
      "\u001b[1;31m---------------------------------------------------------------------------\u001b[0m",
      "\u001b[1;31mInterfaceError\u001b[0m                            Traceback (most recent call last)",
      "Cell \u001b[1;32mIn [3], line 9\u001b[0m\n\u001b[0;32m      6\u001b[0m DATABASE \u001b[39m=\u001b[39m \u001b[39m'\u001b[39m\u001b[39mproducts\u001b[39m\u001b[39m'\u001b[39m\n\u001b[0;32m      7\u001b[0m CONNECTION_STRING \u001b[39m=\u001b[39m \u001b[39mf\u001b[39m\u001b[39m\"\u001b[39m\u001b[39mhost=\u001b[39m\u001b[39m{\u001b[39;00mHOST\u001b[39m}\u001b[39;00m\u001b[39m, user=\u001b[39m\u001b[39m{\u001b[39;00mUSERNAME\u001b[39m}\u001b[39;00m\u001b[39m, password=\u001b[39m\u001b[39m{\u001b[39;00mPASSWORD\u001b[39m}\u001b[39;00m\u001b[39m, database=\u001b[39m\u001b[39m{\u001b[39;00mDATABASE\u001b[39m}\u001b[39;00m\u001b[39m, port=3306\u001b[39m\u001b[39m\"\u001b[39m\n\u001b[1;32m----> 9\u001b[0m connection \u001b[39m=\u001b[39m mysql\u001b[39m.\u001b[39;49mconnector\u001b[39m.\u001b[39;49mconnect(user\u001b[39m=\u001b[39;49mUSERNAME, password\u001b[39m=\u001b[39;49mPASSWORD, host\u001b[39m=\u001b[39;49mHOST, database\u001b[39m=\u001b[39;49mDATABASE)\n\u001b[0;32m     11\u001b[0m \u001b[39mif\u001b[39;00m connection \u001b[39mis\u001b[39;00m \u001b[39mnot\u001b[39;00m \u001b[39mNone\u001b[39;00m \u001b[39mand\u001b[39;00m connection\u001b[39m.\u001b[39mis_connected():\n\u001b[0;32m     12\u001b[0m     \u001b[39mprint\u001b[39m(\u001b[39m'\u001b[39m\u001b[39mConnection Successful !!\u001b[39m\u001b[39m'\u001b[39m)\n",
      "File \u001b[1;32m~\\AppData\\Local\\Packages\\PythonSoftwareFoundation.Python.3.10_qbz5n2kfra8p0\\LocalCache\\local-packages\\Python310\\site-packages\\mysql\\connector\\pooling.py:287\u001b[0m, in \u001b[0;36mconnect\u001b[1;34m(*args, **kwargs)\u001b[0m\n\u001b[0;32m    285\u001b[0m \u001b[39mif\u001b[39;00m CMySQLConnection \u001b[39mand\u001b[39;00m \u001b[39mnot\u001b[39;00m use_pure:\n\u001b[0;32m    286\u001b[0m     \u001b[39mreturn\u001b[39;00m CMySQLConnection(\u001b[39m*\u001b[39margs, \u001b[39m*\u001b[39m\u001b[39m*\u001b[39mkwargs)\n\u001b[1;32m--> 287\u001b[0m \u001b[39mreturn\u001b[39;00m MySQLConnection(\u001b[39m*\u001b[39margs, \u001b[39m*\u001b[39m\u001b[39m*\u001b[39mkwargs)\n",
      "File \u001b[1;32m~\\AppData\\Local\\Packages\\PythonSoftwareFoundation.Python.3.10_qbz5n2kfra8p0\\LocalCache\\local-packages\\Python310\\site-packages\\mysql\\connector\\connection.py:137\u001b[0m, in \u001b[0;36mMySQLConnection.__init__\u001b[1;34m(self, **kwargs)\u001b[0m\n\u001b[0;32m    135\u001b[0m \u001b[39mif\u001b[39;00m kwargs:\n\u001b[0;32m    136\u001b[0m     \u001b[39mtry\u001b[39;00m:\n\u001b[1;32m--> 137\u001b[0m         \u001b[39mself\u001b[39m\u001b[39m.\u001b[39mconnect(\u001b[39m*\u001b[39m\u001b[39m*\u001b[39mkwargs)\n\u001b[0;32m    138\u001b[0m     \u001b[39mexcept\u001b[39;00m \u001b[39mException\u001b[39;00m:\n\u001b[0;32m    139\u001b[0m         \u001b[39m# Tidy-up underlying socket on failure\u001b[39;00m\n\u001b[0;32m    140\u001b[0m         \u001b[39mself\u001b[39m\u001b[39m.\u001b[39mclose()\n",
      "File \u001b[1;32m~\\AppData\\Local\\Packages\\PythonSoftwareFoundation.Python.3.10_qbz5n2kfra8p0\\LocalCache\\local-packages\\Python310\\site-packages\\mysql\\connector\\abstracts.py:1108\u001b[0m, in \u001b[0;36mMySQLConnectionAbstract.connect\u001b[1;34m(self, **kwargs)\u001b[0m\n\u001b[0;32m   1105\u001b[0m     \u001b[39mself\u001b[39m\u001b[39m.\u001b[39mconfig(\u001b[39m*\u001b[39m\u001b[39m*\u001b[39mkwargs)\n\u001b[0;32m   1107\u001b[0m \u001b[39mself\u001b[39m\u001b[39m.\u001b[39mdisconnect()\n\u001b[1;32m-> 1108\u001b[0m \u001b[39mself\u001b[39;49m\u001b[39m.\u001b[39;49m_open_connection()\n\u001b[0;32m   1109\u001b[0m \u001b[39m# Server does not allow to run any other statement different from ALTER\u001b[39;00m\n\u001b[0;32m   1110\u001b[0m \u001b[39m# when user's password has been expired.\u001b[39;00m\n\u001b[0;32m   1111\u001b[0m \u001b[39mif\u001b[39;00m \u001b[39mnot\u001b[39;00m \u001b[39mself\u001b[39m\u001b[39m.\u001b[39m_client_flags \u001b[39m&\u001b[39m ClientFlag\u001b[39m.\u001b[39mCAN_HANDLE_EXPIRED_PASSWORDS:\n",
      "File \u001b[1;32m~\\AppData\\Local\\Packages\\PythonSoftwareFoundation.Python.3.10_qbz5n2kfra8p0\\LocalCache\\local-packages\\Python310\\site-packages\\mysql\\connector\\connection.py:534\u001b[0m, in \u001b[0;36mMySQLConnection._open_connection\u001b[1;34m(self)\u001b[0m\n\u001b[0;32m    532\u001b[0m \u001b[39mtry\u001b[39;00m:\n\u001b[0;32m    533\u001b[0m     \u001b[39mself\u001b[39m\u001b[39m.\u001b[39m_socket\u001b[39m.\u001b[39mopen_connection()\n\u001b[1;32m--> 534\u001b[0m     \u001b[39mself\u001b[39;49m\u001b[39m.\u001b[39;49m_do_handshake()\n\u001b[0;32m    535\u001b[0m     \u001b[39mself\u001b[39m\u001b[39m.\u001b[39m_do_auth(\n\u001b[0;32m    536\u001b[0m         \u001b[39mself\u001b[39m\u001b[39m.\u001b[39m_user,\n\u001b[0;32m    537\u001b[0m         \u001b[39mself\u001b[39m\u001b[39m.\u001b[39m_password,\n\u001b[1;32m   (...)\u001b[0m\n\u001b[0;32m    542\u001b[0m         \u001b[39mself\u001b[39m\u001b[39m.\u001b[39m_conn_attrs,\n\u001b[0;32m    543\u001b[0m     )\n\u001b[0;32m    544\u001b[0m     \u001b[39mself\u001b[39m\u001b[39m.\u001b[39mset_converter_class(\u001b[39mself\u001b[39m\u001b[39m.\u001b[39m_converter_class)\n",
      "File \u001b[1;32m~\\AppData\\Local\\Packages\\PythonSoftwareFoundation.Python.3.10_qbz5n2kfra8p0\\LocalCache\\local-packages\\Python310\\site-packages\\mysql\\connector\\connection.py:166\u001b[0m, in \u001b[0;36mMySQLConnection._do_handshake\u001b[1;34m(self)\u001b[0m\n\u001b[0;32m    164\u001b[0m \u001b[39mdef\u001b[39;00m \u001b[39m_do_handshake\u001b[39m(\u001b[39mself\u001b[39m):\n\u001b[0;32m    165\u001b[0m     \u001b[39m\"\"\"Get the handshake from the MySQL server\"\"\"\u001b[39;00m\n\u001b[1;32m--> 166\u001b[0m     packet \u001b[39m=\u001b[39m \u001b[39mself\u001b[39;49m\u001b[39m.\u001b[39;49m_socket\u001b[39m.\u001b[39;49mrecv()\n\u001b[0;32m    167\u001b[0m     \u001b[39mif\u001b[39;00m packet[\u001b[39m4\u001b[39m] \u001b[39m==\u001b[39m \u001b[39m255\u001b[39m:\n\u001b[0;32m    168\u001b[0m         \u001b[39mraise\u001b[39;00m get_exception(packet)\n",
      "File \u001b[1;32m~\\AppData\\Local\\Packages\\PythonSoftwareFoundation.Python.3.10_qbz5n2kfra8p0\\LocalCache\\local-packages\\Python310\\site-packages\\mysql\\connector\\network.py:256\u001b[0m, in \u001b[0;36mBaseMySQLSocket.recv_plain\u001b[1;34m(self)\u001b[0m\n\u001b[0;32m    254\u001b[0m chunk \u001b[39m=\u001b[39m \u001b[39mself\u001b[39m\u001b[39m.\u001b[39msock\u001b[39m.\u001b[39mrecv(\u001b[39m4\u001b[39m \u001b[39m-\u001b[39m packet_len)\n\u001b[0;32m    255\u001b[0m \u001b[39mif\u001b[39;00m \u001b[39mnot\u001b[39;00m chunk:\n\u001b[1;32m--> 256\u001b[0m     \u001b[39mraise\u001b[39;00m InterfaceError(errno\u001b[39m=\u001b[39m\u001b[39m2013\u001b[39m)\n\u001b[0;32m    257\u001b[0m packet \u001b[39m+\u001b[39m\u001b[39m=\u001b[39m chunk\n\u001b[0;32m    258\u001b[0m packet_len \u001b[39m=\u001b[39m \u001b[39mlen\u001b[39m(packet)\n",
      "\u001b[1;31mInterfaceError\u001b[0m: 2013: Lost connection to MySQL server during query"
     ]
    }
   ],
   "source": [
    "import mysql.connector\n",
    "\n",
    "HOST = '127.0.0.1' # since postgres runs on local workspace in Docker\n",
    "USERNAME = 'root'\n",
    "PASSWORD = 'scott'\n",
    "DATABASE = 'products'\n",
    "CONNECTION_STRING = f\"host={HOST}, user={USERNAME}, password={PASSWORD}, database={DATABASE}, port=3306\"\n",
    " \n",
    "connection = mysql.connector.connect(user=USERNAME, password=PASSWORD, host=HOST, database=DATABASE)\n",
    "\n",
    "if connection is not None and connection.is_connected():\n",
    "    print('Connection Successful !!')\n",
    "else:\n",
    "    print(\"Connection Failed (X)\")\n",
    "\n",
    "cursor = connection.cursor() # we will use cursor for all DB operations"
   ]
  },
  {
   "cell_type": "markdown",
   "metadata": {},
   "source": [
    "### Step 4: Create a table `product`"
   ]
  },
  {
   "cell_type": "code",
   "execution_count": null,
   "metadata": {},
   "outputs": [],
   "source": [
    "# USE_DATABASE = \"Use products ;\"\n",
    "\n",
    "# cursor.execute(USE_DATABASE)\n",
    "# connection.commit()\n",
    "\n",
    "CREATE_TABLE = \"CREATE TABLE IF NOT EXISTS product ( \\\n",
    "  id INT NOT NULL, \\\n",
    "  name varchar(30) NOT NULL, \\\n",
    "  PRIMARY KEY (id) \\\n",
    ") ;\"\n",
    "\n",
    "cursor.execute(CREATE_TABLE)\n",
    "connection.commit()"
   ]
  },
  {
   "cell_type": "markdown",
   "metadata": {},
   "source": [
    "### Step 5: Insert a record in table `product`"
   ]
  },
  {
   "cell_type": "code",
   "execution_count": null,
   "metadata": {},
   "outputs": [],
   "source": [
    "INSERT_RECORD = \"INSERT INTO product (ID, NAME) VALUES (1, 'Apple') ;\"\n",
    "\n",
    "cursor.execute(INSERT_RECORD)\n",
    "connection.commit()"
   ]
  },
  {
   "cell_type": "markdown",
   "metadata": {},
   "source": [
    "### Step 6: Select record from table `product`"
   ]
  },
  {
   "cell_type": "code",
   "execution_count": null,
   "metadata": {},
   "outputs": [],
   "source": [
    "SELECT_RECORD = \"SELECT * FROM product WHERE ID=1 ;\"\n",
    "\n",
    "cursor.execute(SELECT_RECORD)\n",
    "result = cursor.fetchall()\n",
    "\n",
    "print(result)"
   ]
  },
  {
   "cell_type": "markdown",
   "metadata": {},
   "source": [
    "### Step 7: Update record with different name in table `product` and select the record to verify if update is successful"
   ]
  },
  {
   "cell_type": "code",
   "execution_count": null,
   "metadata": {},
   "outputs": [],
   "source": [
    "UPDATE_RECORD = \"UPDATE product SET NAME='Banana' WHERE ID=1 ;\"\n",
    "\n",
    "cursor.execute(UPDATE_RECORD)\n",
    "connection.commit()\n",
    "\n",
    "cursor.execute(SELECT_RECORD)\n",
    "result = cursor.fetchall()\n",
    "\n",
    "print(result)"
   ]
  },
  {
   "cell_type": "markdown",
   "metadata": {},
   "source": [
    "### Step 8: Delete record from table `product` and select the record to verify if delete is successful"
   ]
  },
  {
   "cell_type": "code",
   "execution_count": null,
   "metadata": {},
   "outputs": [],
   "source": [
    "DELETE_RECORD = \"DELETE FROM product WHERE ID=1 ;\"\n",
    "\n",
    "cursor.execute(DELETE_RECORD)\n",
    "connection.commit()\n",
    "\n",
    "cursor.execute(SELECT_RECORD)\n",
    "result = cursor.fetchall()\n",
    "\n",
    "print(result)"
   ]
  },
  {
   "cell_type": "markdown",
   "metadata": {},
   "source": [
    "### Step 9: Clean up resources"
   ]
  },
  {
   "cell_type": "code",
   "execution_count": null,
   "metadata": {},
   "outputs": [],
   "source": [
    "!docker compose down"
   ]
  }
 ],
 "metadata": {
  "kernelspec": {
   "display_name": "Python 3.10.8 64-bit (microsoft store)",
   "language": "python",
   "name": "python3"
  },
  "language_info": {
   "codemirror_mode": {
    "name": "ipython",
    "version": 3
   },
   "file_extension": ".py",
   "mimetype": "text/x-python",
   "name": "python",
   "nbconvert_exporter": "python",
   "pygments_lexer": "ipython3",
   "version": "3.10.8"
  },
  "orig_nbformat": 4,
  "vscode": {
   "interpreter": {
    "hash": "634444e4a42c0510ef2be0612b67bda39089e87c9d0419d021c4c25ff12e5e30"
   }
  }
 },
 "nbformat": 4,
 "nbformat_minor": 2
}
