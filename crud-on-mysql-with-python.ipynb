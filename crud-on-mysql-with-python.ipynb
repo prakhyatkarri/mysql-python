{
 "cells": [
  {
   "cell_type": "markdown",
   "metadata": {},
   "source": [
    "## CRUD Operations on MySQL using Python\n",
    "\n",
    "For this example, we are using [MySQL](https://hub.docker.com/_/mysql) image in Docker compose environment."
   ]
  },
  {
   "cell_type": "markdown",
   "metadata": {},
   "source": [
    "### Step 1: Spin up Docker compose environment"
   ]
  },
  {
   "cell_type": "code",
   "execution_count": 22,
   "metadata": {},
   "outputs": [
    {
     "name": "stderr",
     "output_type": "stream",
     "text": [
      "Network mysql-python_default  Creating\n",
      "Network mysql-python_default  Created\n",
      "Container mysql-python-db-1  Creating\n",
      "Container mysql-python-db-1  Created\n",
      "Container mysql-python-db-1  Starting\n",
      "Container mysql-python-db-1  Started\n"
     ]
    }
   ],
   "source": [
    "!docker compose up --remove-orphans -d \n",
    "\n",
    "# --remove-orphans will remove any previously ran dangling containers\n",
    "# -d will run container in a detached mode"
   ]
  },
  {
   "cell_type": "markdown",
   "metadata": {},
   "source": [
    "### Step 2: Install Postgres library for Python"
   ]
  },
  {
   "cell_type": "code",
   "execution_count": 23,
   "metadata": {},
   "outputs": [
    {
     "name": "stdout",
     "output_type": "stream",
     "text": [
      "Note: you may need to restart the kernel to use updated packages.Requirement already satisfied: mysql-connector-python in c:\\users\\prakh\\appdata\\local\\packages\\pythonsoftwarefoundation.python.3.10_qbz5n2kfra8p0\\localcache\\local-packages\\python310\\site-packages (8.0.31)\n",
      "Requirement already satisfied: protobuf<=3.20.1,>=3.11.0 in c:\\users\\prakh\\appdata\\local\\packages\\pythonsoftwarefoundation.python.3.10_qbz5n2kfra8p0\\localcache\\local-packages\\python310\\site-packages (from mysql-connector-python) (3.20.1)\n",
      "\n"
     ]
    },
    {
     "name": "stderr",
     "output_type": "stream",
     "text": [
      "\n",
      "[notice] A new release of pip available: 22.2.2 -> 22.3.1\n",
      "[notice] To update, run: C:\\Users\\prakh\\AppData\\Local\\Microsoft\\WindowsApps\\PythonSoftwareFoundation.Python.3.10_qbz5n2kfra8p0\\python.exe -m pip install --upgrade pip\n"
     ]
    }
   ],
   "source": [
    "pip install mysql-connector-python"
   ]
  },
  {
   "cell_type": "markdown",
   "metadata": {},
   "source": [
    "### Step 3: Connect to Postgres database using Python"
   ]
  },
  {
   "cell_type": "code",
   "execution_count": 30,
   "metadata": {},
   "outputs": [
    {
     "name": "stdout",
     "output_type": "stream",
     "text": [
      "Connection Successful !!\n"
     ]
    }
   ],
   "source": [
    "import mysql.connector\n",
    "\n",
    "HOST = '127.0.0.1' # since postgres runs on local workspace in Docker\n",
    "USERNAME = 'root'\n",
    "PASSWORD = 'scott'\n",
    "DATABASE = 'products'\n",
    "CONNECTION_STRING = f\"host={HOST}, user={USERNAME}, password={PASSWORD}, database={DATABASE}, port=3306\"\n",
    " \n",
    "connection = mysql.connector.connect(user=USERNAME, password=PASSWORD, host=HOST, database=DATABASE)\n",
    "\n",
    "if connection is not None and connection.is_connected():\n",
    "    print('Connection Successful !!')\n",
    "else:\n",
    "    print(\"Connection Failed (X)\")\n",
    "\n",
    "cursor = connection.cursor() # we will use cursor for all DB operations"
   ]
  },
  {
   "cell_type": "markdown",
   "metadata": {},
   "source": [
    "### Step 4: Create a table `product`"
   ]
  },
  {
   "cell_type": "code",
   "execution_count": 31,
   "metadata": {},
   "outputs": [],
   "source": [
    "CREATE_TABLE = \"CREATE TABLE IF NOT EXISTS product ( \\\n",
    "  id INT NOT NULL, \\\n",
    "  name varchar(30) NOT NULL, \\\n",
    "  PRIMARY KEY (id) \\\n",
    ") ;\"\n",
    "\n",
    "cursor.execute(CREATE_TABLE)\n",
    "connection.commit()"
   ]
  },
  {
   "cell_type": "markdown",
   "metadata": {},
   "source": [
    "### Step 5: Insert a record in table `product`"
   ]
  },
  {
   "cell_type": "code",
   "execution_count": 32,
   "metadata": {},
   "outputs": [],
   "source": [
    "INSERT_RECORD = \"INSERT INTO product (ID, NAME) VALUES (1, 'Apple') ;\"\n",
    "\n",
    "cursor.execute(INSERT_RECORD)\n",
    "connection.commit()"
   ]
  },
  {
   "cell_type": "markdown",
   "metadata": {},
   "source": [
    "### Step 6: Select record from table `product`"
   ]
  },
  {
   "cell_type": "code",
   "execution_count": 33,
   "metadata": {},
   "outputs": [
    {
     "name": "stdout",
     "output_type": "stream",
     "text": [
      "[(1, 'Apple')]\n"
     ]
    }
   ],
   "source": [
    "SELECT_RECORD = \"SELECT * FROM product WHERE ID=1 ;\"\n",
    "\n",
    "cursor.execute(SELECT_RECORD)\n",
    "result = cursor.fetchall()\n",
    "\n",
    "print(result)"
   ]
  },
  {
   "cell_type": "markdown",
   "metadata": {},
   "source": [
    "### Step 7: Update record with different name in table `product` and select the record to verify if update is successful"
   ]
  },
  {
   "cell_type": "code",
   "execution_count": 34,
   "metadata": {},
   "outputs": [
    {
     "name": "stdout",
     "output_type": "stream",
     "text": [
      "[(1, 'Banana')]\n"
     ]
    }
   ],
   "source": [
    "UPDATE_RECORD = \"UPDATE product SET NAME='Banana' WHERE ID=1 ;\"\n",
    "\n",
    "cursor.execute(UPDATE_RECORD)\n",
    "connection.commit()\n",
    "\n",
    "cursor.execute(SELECT_RECORD)\n",
    "result = cursor.fetchall()\n",
    "\n",
    "print(result)"
   ]
  },
  {
   "cell_type": "markdown",
   "metadata": {},
   "source": [
    "### Step 8: Delete record from table `product` and select the record to verify if delete is successful"
   ]
  },
  {
   "cell_type": "code",
   "execution_count": 35,
   "metadata": {},
   "outputs": [
    {
     "name": "stdout",
     "output_type": "stream",
     "text": [
      "[]\n"
     ]
    }
   ],
   "source": [
    "DELETE_RECORD = \"DELETE FROM product WHERE ID=1 ;\"\n",
    "\n",
    "cursor.execute(DELETE_RECORD)\n",
    "connection.commit()\n",
    "\n",
    "cursor.execute(SELECT_RECORD)\n",
    "result = cursor.fetchall()\n",
    "\n",
    "print(result)"
   ]
  },
  {
   "cell_type": "markdown",
   "metadata": {},
   "source": [
    "### Step 9: Clean up resources"
   ]
  },
  {
   "cell_type": "code",
   "execution_count": 36,
   "metadata": {},
   "outputs": [
    {
     "name": "stderr",
     "output_type": "stream",
     "text": [
      "Container mysql-python-db-1  Stopping\n",
      "Container mysql-python-db-1  Stopping\n",
      "Container mysql-python-db-1  Stopped\n",
      "Container mysql-python-db-1  Removing\n",
      "Container mysql-python-db-1  Removed\n",
      "Network mysql-python_default  Removing\n",
      "Network mysql-python_default  Removed\n"
     ]
    }
   ],
   "source": [
    "!docker compose down"
   ]
  }
 ],
 "metadata": {
  "kernelspec": {
   "display_name": "Python 3.10.8 64-bit (microsoft store)",
   "language": "python",
   "name": "python3"
  },
  "language_info": {
   "codemirror_mode": {
    "name": "ipython",
    "version": 3
   },
   "file_extension": ".py",
   "mimetype": "text/x-python",
   "name": "python",
   "nbconvert_exporter": "python",
   "pygments_lexer": "ipython3",
   "version": "3.10.8"
  },
  "orig_nbformat": 4,
  "vscode": {
   "interpreter": {
    "hash": "634444e4a42c0510ef2be0612b67bda39089e87c9d0419d021c4c25ff12e5e30"
   }
  }
 },
 "nbformat": 4,
 "nbformat_minor": 2
}
